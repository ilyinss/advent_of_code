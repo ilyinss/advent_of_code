{
 "cells": [
  {
   "cell_type": "markdown",
   "metadata": {},
   "source": [
    "--- Day 1: Historian Hysteria ---\n",
    "\n",
    "\n",
    "The <span style='font-weight:bold;'>Chief Historian</span> is always present for the big Christmas sleigh launch, but nobody has seen him in months! Last anyone heard, he was visiting locations that are historically significant to the North Pole; a group of Senior Historians has asked you to accompany them as they check the places they think he was most likely to visit.\n",
    "\n",
    "As each location is checked, they will mark it on their list with a <span style = 'color:yellow; font-weight:bold;'>star</span>. They figure the Chief Historian <span style='font-weight:bold;'>must</span> be in one of the first fifty places they'll look, so in order to save Christmas, you need to help them get  <span style = 'color:yellow; font-weight:bold;'>fifty stars</span> on their list before Santa takes off on December 25th.\n",
    "\n",
    "Collect stars by solving puzzles. Two puzzles will be made available on each day in the Advent calendar; the second puzzle is unlocked when you complete the first. Each puzzle grants one star. Good luck!\n",
    "\n",
    "You haven't even left yet and the group of Elvish Senior Historians has already hit a problem: their list of locations to check is currently  <span style = 'color:white; font-weight:bold;'>empty</span>. Eventually, someone decides that the best place to check first would be the Chief Historian's office.\n",
    "\n",
    "Upon pouring into the office, everyone confirms that the Chief Historian is indeed nowhere to be found. Instead, the Elves discover an assortment of notes and lists of historically significant locations! This seems to be the planning the Chief Historian was doing before he left. Perhaps these notes can be used to determine which locations to search?\n",
    "\n",
    "Throughout the Chief's office, the historically significant locations are listed not by name but by a unique number called the  <span style = 'color:white; font-weight:bold;'>location ID</span>. To make sure they don't miss anything, The Historians split into two groups, each searching the office and trying to create their own complete list of location IDs.\n",
    "\n",
    "There's just one problem: by holding the two lists up  <span style = 'color:white; font-weight:bold;'>side by side</span> (your puzzle input), it quickly becomes clear that the lists aren't very similar. Maybe you can help The Historians reconcile their lists?\n",
    "\n",
    "For example:\n",
    "\n",
    "```\n",
    "3   4\n",
    "4   3\n",
    "2   5\n",
    "1   3\n",
    "3   9\n",
    "3   3\n",
    "```\n",
    "\n",
    "Maybe the lists are only off by a small amount! To find out, pair up the numbers and measure how far apart they are. Pair up <span style = 'color:white; font-weight:bold;'>the smallest number in the left list</span> with the <span style = 'color:white; font-weight:bold;'>smallest number in the right list</span>, then the <span style = 'color:white; font-weight:bold;'>second-smallest left number</span> with the <span style = 'color:white; font-weight:bold;'>second-smallest right number</span>, and so on.\n",
    "\n",
    "Within each pair, figure out <span style = 'color:white; font-weight:bold;'>how far apart</span> the two numbers are; you'll need to <span style = 'color:white; font-weight:bold;'>add up all of those distances</span>. For example, if you pair up a `3` from the left list with a `7` from the right list, the distance apart is `4`; if you pair up a `9` with a `3`, the distance apart is `6`.\n",
    "\n",
    "In the example list above, the pairs and distances would be as follows:\n",
    "\n",
    "- The smallest number in the left list is `1`, and the smallest number in the right list is `3`. The distance between them is <span style = 'color:white; font-weight:bold;'>`2`</span>.  \n",
    "- The second-smallest number in the left list is `2`, and the second-smallest number in the right list is another `3`. The distance between them is `1`.  \n",
    "- The third-smallest number in both lists is `3`, so the distance between them is `0`.  \n",
    "- The next numbers to pair up are `3` and `4`, a distance of `1`.  \n",
    "- The fifth-smallest numbers in each list are `3` and `5`, a distance of `2`.  \n",
    "- Finally, the largest number in the left list is `4`, while the largest number in the right list is `9`; these are a distance `5` apart.\n",
    "\n",
    "To find the <span style = 'color:white; font-weight:bold;'>total distance</span> between the left list and the right list, add up the distances between all of the pairs you found. In the example above, this is `2 + 1 + 0 + 1 + 2 + 5`, a total distance of `11`!\n",
    "\n",
    "Your actual left and right lists contain many location IDs. What is the total distance between your lists?"
   ]
  },
  {
   "cell_type": "code",
   "execution_count": 3,
   "metadata": {},
   "outputs": [],
   "source": [
    "with open('day_1.txt', 'r') as f:\n",
    "    line = f.read().splitlines()"
   ]
  },
  {
   "cell_type": "code",
   "execution_count": 16,
   "metadata": {},
   "outputs": [],
   "source": [
    "left_col = []\n",
    "right_col = []\n",
    "\n",
    "for i in line:\n",
    "    x = i.split('   ')\n",
    "    left_col.append(int(x[0]))\n",
    "    right_col.append(int(x[1]))\n",
    "    \n",
    "left_col = sorted(left_col)\n",
    "right_col = sorted(right_col)\n",
    "zip_list = zip(left_col, right_col)"
   ]
  },
  {
   "cell_type": "code",
   "execution_count": 17,
   "metadata": {},
   "outputs": [
    {
     "data": {
      "text/plain": [
       "1879048"
      ]
     },
     "execution_count": 17,
     "metadata": {},
     "output_type": "execute_result"
    }
   ],
   "source": [
    "distance = 0\n",
    "\n",
    "for i in zip_list:\n",
    "    distance += abs(i[0]-i[1])\n",
    "    \n",
    "distance"
   ]
  },
  {
   "cell_type": "markdown",
   "metadata": {},
   "source": [
    "--- Part Two ---\n",
    "\n",
    "Your analysis only confirmed what everyone feared: the two lists of location IDs are indeed very different.\n",
    "\n",
    "Or are they?\n",
    "\n",
    "The Historians can't agree on which group made the mistakes <span style = 'color:white; font-weight:bold;'>or</span> how to read most of the Chief's handwriting, but in the commotion you notice an interesting detail: a lot of location IDs appear in both lists! Maybe the other numbers aren't location IDs at all but rather misinterpreted handwriting.\n",
    "\n",
    "This time, you'll need to figure out exactly how often each number from the left list appears in the right list. Calculate a <span style = 'color:white; font-weight:bold;'>total similarity</span> score by adding up each number in the left list after multiplying it by the number of times that number appears in the right list.\n",
    "\n",
    "Here are the same example lists again:\n",
    "\n",
    "```\n",
    "3   4\n",
    "4   3\n",
    "2   5\n",
    "1   3\n",
    "3   9\n",
    "3   3\n",
    "```\n",
    "\n",
    "For these example lists, here is the process of finding the similarity score:\n",
    "\n",
    "- The first number in the left list is `3`. It appears in the right list three times, so the similarity score increases by `3 * 3 = 9`.\n",
    "- The second number in the left list is `4`. It appears in the right list once, so the similarity score increases by `4 * 1 = 4`.\n",
    "- The third number in the left list is `2`. It does not appear in the right list, so the similarity score does not increase (`2 * 0 = 0`).\n",
    "- The fourth number, `1`, also does not appear in the right list.\n",
    "- The fifth number, `3`, appears in the right list three times; the similarity score increases by `9`.\n",
    "- The last number, `3`, appears in the right list three times; the similarity score again increases by `9`.\n",
    "\n",
    "So, for these example lists, the similarity score at the end of this process is `31` (`9 + 4 + 0 + 0 + 9 + 9`).\n",
    "\n",
    "Once again consider your left and right lists. <span style = 'color:white; font-weight:bold;'>What is their similarity score?</span>\n",
    "\n"
   ]
  },
  {
   "cell_type": "code",
   "execution_count": 19,
   "metadata": {},
   "outputs": [
    {
     "name": "stdout",
     "output_type": "stream",
     "text": [
      "21024792\n"
     ]
    }
   ],
   "source": [
    "distance = 0\n",
    "\n",
    "for i in left_col:\n",
    "    temp = i * right_col.count(i)\n",
    "    distance+=temp\n",
    "\n",
    "\n",
    "print(distance)"
   ]
  },
  {
   "cell_type": "code",
   "execution_count": null,
   "metadata": {},
   "outputs": [],
   "source": []
  }
 ],
 "metadata": {
  "kernelspec": {
   "display_name": "study_env",
   "language": "python",
   "name": "python3"
  },
  "language_info": {
   "codemirror_mode": {
    "name": "ipython",
    "version": 3
   },
   "file_extension": ".py",
   "mimetype": "text/x-python",
   "name": "python",
   "nbconvert_exporter": "python",
   "pygments_lexer": "ipython3",
   "version": "3.11.0"
  }
 },
 "nbformat": 4,
 "nbformat_minor": 2
}
