{
 "cells": [
  {
   "cell_type": "code",
   "execution_count": 2,
   "metadata": {},
   "outputs": [],
   "source": [
    "import numpy as np\n",
    "import math\n",
    "from collections import Counter\n",
    "\n",
    "import seaborn as sns\n",
    "import matplotlib\n",
    "import matplotlib.pyplot as plt\n",
    "import matplotlib.animation as animation\n",
    "from plotly import graph_objects as go\n",
    "\n",
    "import hashlib\n",
    "import re\n",
    "from string import ascii_lowercase\n",
    "\n",
    "from time import sleep\n"
   ]
  },
  {
   "cell_type": "markdown",
   "metadata": {},
   "source": [
    "--- Day 1: Not Quite Lisp ---  \n",
    "\n",
    "Santa was hoping for a white Christmas, but his weather machine's \"snow\" function is powered by stars, and he's fresh out! To save Christmas, he needs you to collect fifty stars by December 25th.\n",
    "\n",
    "Collect stars by helping Santa solve puzzles. Two puzzles will be made available on each day in the Advent calendar; the second puzzle is unlocked when you complete the first. Each puzzle grants one star. Good luck!\n",
    "\n",
    "Here's an easy puzzle to warm you up.\n",
    "\n",
    "Santa is trying to deliver presents in a large apartment building, but he can't find the right floor - the directions he got are a little confusing. He starts on the ground floor `(floor 0)` and then follows the instructions one character at a time.\n",
    "\n",
    "An opening parenthesis, (, means he should go up one floor, and a closing parenthesis, ), means he should go down one floor.\n",
    "\n",
    "The apartment building is very tall, and the basement is very deep; he will never find the top or bottom floors.\n",
    "\n",
    "For example:\n",
    "\n",
    "```\n",
    "(()) and ()() both result in floor 0.\n",
    "((( and (()(()( both result in floor 3.\n",
    "))((((( also results in floor 3.\n",
    "()) and ))( both result in floor -1 (the first basement level).\n",
    "))) and )())()) both result in floor -3.\n",
    "```\n",
    "\n",
    "<p style = 'color:yellow;'>To what floor do the instructions take Santa?</p>\n"
   ]
  },
  {
   "cell_type": "code",
   "execution_count": 3,
   "metadata": {},
   "outputs": [],
   "source": [
    "with open('day_1.txt', 'r') as f:\n",
    "    line = f.read()"
   ]
  },
  {
   "cell_type": "code",
   "execution_count": 4,
   "metadata": {},
   "outputs": [
    {
     "name": "stdout",
     "output_type": "stream",
     "text": [
      "74\n"
     ]
    }
   ],
   "source": [
    "count = 0\n",
    "for i, ch in enumerate(line):\n",
    "    if ch == '(':\n",
    "        count += 1\n",
    "    elif ch == ')':\n",
    "        count -= 1\n",
    "                \n",
    "print(count)"
   ]
  },
  {
   "cell_type": "markdown",
   "metadata": {},
   "source": [
    "--- Part Two ---  \n",
    "\n",
    "Now, given the same instructions, find the position of the first character that causes him to enter the basement (floor -1). The first character in the instructions has position 1, the second character has position 2, and so on.\n",
    "\n",
    "For example:\n",
    "```\n",
    "`)` causes him to enter the basement at character position 1.  \n",
    "`()())` causes him to enter the basement at character position 5.  \n",
    "```\n",
    "\n",
    "<p style = 'color:yellow;'>What is the position of the character that causes Santa to first enter the basement?</p>"
   ]
  },
  {
   "cell_type": "code",
   "execution_count": 5,
   "metadata": {},
   "outputs": [
    {
     "name": "stdout",
     "output_type": "stream",
     "text": [
      "1795\n"
     ]
    }
   ],
   "source": [
    "count = 0\n",
    "basement = 0\n",
    "for i, ch in enumerate(line):\n",
    "    if ch == '(':\n",
    "        count += 1\n",
    "    elif ch == ')':\n",
    "        count -= 1\n",
    "    if basement == 0 and count == -1:\n",
    "        basement = i+1\n",
    "        \n",
    "print(basement)"
   ]
  },
  {
   "cell_type": "markdown",
   "metadata": {},
   "source": [
    "--- Day 2: I Was Told There Would Be No Math ---  \n",
    "\n",
    "The elves are running low on wrapping paper, and so they need to submit an order for more. They have a list of the dimensions (length l, width w, and height h) of each present, and only want to order exactly as much as they need.\n",
    "\n",
    "Fortunately, every present is a box (a [perfect right rectangular prism]('https://en.wikipedia.org/wiki/Cuboid#Rectangular_cuboid')), which makes calculating the required wrapping paper for each gift a little easier: find the surface area of the box, which is `2*l*w + 2*w*h + 2*h*l`. The elves also need a little extra paper for each present: the area of the smallest side.\n",
    "\n",
    "For example:\n",
    "\n",
    "- A present with dimensions `2x3x4` requires `2*6 + 2*12 + 2*8 = 52` square feet of wrapping paper plus 6 square feet of slack, for a total of 58 square feet.  \n",
    "- A present with dimensions `1x1x10` requires `2*1 + 2*10 + 2*10 = 42` square feet of wrapping paper plus 1 square foot of slack, for a total of 43 square feet.  \n",
    "\n",
    "\n",
    "<p style = 'color:yellow;'>All numbers in the elves' list are in feet. How many total square feet of wrapping paper should they order?</p>"
   ]
  },
  {
   "cell_type": "code",
   "execution_count": 6,
   "metadata": {},
   "outputs": [],
   "source": [
    "with open('day_2.txt', 'r') as f:\n",
    "    line = f.read().splitlines()"
   ]
  },
  {
   "cell_type": "code",
   "execution_count": 7,
   "metadata": {},
   "outputs": [],
   "source": [
    "def cuboid(input_str:str)->int:\n",
    "    prep = input_str.split('x')\n",
    "    prep_int = [int(x) for x in prep]\n",
    "    ans_list = []\n",
    "    lw = prep_int[0]*prep_int[1]\n",
    "    wh = prep_int[1]*prep_int[2]\n",
    "    hl = prep_int[2]*prep_int[0]\n",
    "    for i in [lw, wh, hl]:\n",
    "        ans_list.append(i)\n",
    "    ans_list = sorted(ans_list)\n",
    "    minimum = ans_list[0]\n",
    "    side_sum = sum([x*2 for x in [lw+wh+hl]])\n",
    "    \n",
    "    return side_sum+minimum"
   ]
  },
  {
   "cell_type": "code",
   "execution_count": 8,
   "metadata": {},
   "outputs": [
    {
     "data": {
      "text/plain": [
       "58"
      ]
     },
     "execution_count": 8,
     "metadata": {},
     "output_type": "execute_result"
    }
   ],
   "source": [
    "# test\n",
    "cuboid('2x3x4')"
   ]
  },
  {
   "cell_type": "code",
   "execution_count": 9,
   "metadata": {},
   "outputs": [
    {
     "name": "stdout",
     "output_type": "stream",
     "text": [
      "1586300\n"
     ]
    }
   ],
   "source": [
    "total_sum = 0\n",
    "for i in line:\n",
    "    total_sum+=cuboid(i)\n",
    "    \n",
    "print(total_sum)"
   ]
  },
  {
   "cell_type": "markdown",
   "metadata": {},
   "source": [
    "--- Part Two ---  \n",
    "\n",
    "The elves are also running low on ribbon. Ribbon is all the same width, so they only have to worry about the length they need to order, which they would again like to be exact.\n",
    "\n",
    "The ribbon required to wrap a present is the shortest distance around its sides, or the smallest perimeter of any one face. Each present also requires a bow made out of ribbon as well; the feet of ribbon required for the perfect bow is equal to the cubic feet of volume of the present. Don't ask how they tie the bow, though; they'll never tell.\n",
    "\n",
    "For example:\n",
    "\n",
    "- A present with dimensions `2x3x4` requires `2+2+3+3 = 10` feet of ribbon to wrap the present plus `2*3*4 = 24` feet of ribbon for the bow, for a total of 34 feet.  \n",
    "- A present with dimensions `1x1x10` requires `1+1+1+1 = 4` feet of ribbon to wrap the present plus `1*1*10 = 10` feet of ribbon for the bow, for a total of 14 feet.  \n",
    "\n",
    "<p style = 'color:yellow;'>How many total feet of ribbon should they order?</p>"
   ]
  },
  {
   "cell_type": "code",
   "execution_count": 10,
   "metadata": {},
   "outputs": [],
   "source": [
    "def cuboid_2(input_str:str)->int:\n",
    "    prep = input_str.split('x')\n",
    "    prep_int = sorted([int(x) for x in prep])\n",
    "    \n",
    "    ribbon_wrap = sum(prep_int[0:2]*2)    \n",
    "    ribbon_bow = math.prod(prep_int)\n",
    "    \n",
    "    return ribbon_wrap+ribbon_bow"
   ]
  },
  {
   "cell_type": "code",
   "execution_count": 11,
   "metadata": {},
   "outputs": [
    {
     "name": "stdout",
     "output_type": "stream",
     "text": [
      "3737498\n"
     ]
    }
   ],
   "source": [
    "# cuboid_2('2x3x4')\n",
    "total_sum = 0\n",
    "for i in line:\n",
    "    total_sum+=cuboid_2(i)\n",
    "    \n",
    "print(total_sum)"
   ]
  },
  {
   "cell_type": "markdown",
   "metadata": {},
   "source": [
    "--- Day 3: Perfectly Spherical Houses in a Vacuum ---  \n",
    "\n",
    "Santa is delivering presents to an infinite two-dimensional grid of houses.\n",
    "\n",
    "He begins by delivering a present to the house at his starting location, and then an elf at the North Pole calls him via radio and tells him where to move next. Moves are always exactly one house to the north (`^`), south (`v`), east (`>`), or west (`<`). After each move, he delivers another present to the house at his new location.\n",
    "\n",
    "However, the elf back at the north pole has had a little too much eggnog, and so his directions are a little off, and Santa ends up visiting some houses more than once. \n",
    "<p style = 'color:yellow;'>How many houses receive at least one present?</p>\n",
    "\n",
    "For example:\n",
    "\n",
    "`>` delivers presents to 2 houses: one at the starting location, and one to the east.  \n",
    "`^>v<` delivers presents to 4 houses in a square, including twice to the house at his starting/ending location.  \n",
    "`^v^v^v^v^v` delivers a bunch of presents to some very lucky children at only 2 houses.  "
   ]
  },
  {
   "cell_type": "code",
   "execution_count": 12,
   "metadata": {},
   "outputs": [],
   "source": [
    "test_str = '^>v<'\n",
    "ans = Counter(test_str)\n",
    "# ans\n",
    "\n",
    "def matrix_size(input_dict:dict)->tuple:\n",
    "    row_counter = 2*(input_dict['<'] + input_dict['>'])\n",
    "    if row_counter%2==0:\n",
    "        row_counter+=1\n",
    "    \n",
    "    col_counter = 2*(input_dict['^'] + input_dict['v'])\n",
    "    if col_counter%2==0:\n",
    "        col_counter+=1\n",
    "    \n",
    "    return (row_counter, col_counter)\n",
    "\n",
    "step_dict = {'^': [0, -1],\n",
    "             'v': [0, 1],\n",
    "             '<': [-1, 0],\n",
    "             '>': [1, 0]}"
   ]
  },
  {
   "cell_type": "code",
   "execution_count": 13,
   "metadata": {},
   "outputs": [
    {
     "data": {
      "text/plain": [
       "Counter({'v': 2042, '>': 2007, '<': 2068, '^': 2075})"
      ]
     },
     "execution_count": 13,
     "metadata": {},
     "output_type": "execute_result"
    }
   ],
   "source": [
    "with open('day_3.txt', 'r') as f:\n",
    "    line = f.read()\n",
    "    \n",
    "ans = Counter(line)\n",
    "\n",
    "ans"
   ]
  },
  {
   "cell_type": "code",
   "execution_count": 14,
   "metadata": {},
   "outputs": [
    {
     "data": {
      "text/plain": [
       "2572"
      ]
     },
     "execution_count": 14,
     "metadata": {},
     "output_type": "execute_result"
    }
   ],
   "source": [
    "mtx = np.zeros(matrix_size(ans))\n",
    "\n",
    "\n",
    "central_col = int((len(mtx[0])/2)-0.5)\n",
    "central_row = int((len(mtx[:, 0])/2)-0.5)\n",
    "mtx[central_row, central_col] = 1\n",
    "\n",
    "col = central_col\n",
    "row = central_row\n",
    "\n",
    "for i in line:\n",
    "    temp = step_dict[i]\n",
    "    col = col+temp[0]\n",
    "    row = row+temp[1]\n",
    "    mtx[row, col] += 1\n",
    "    \n",
    "    i\n",
    "\n",
    "\n",
    "mtx = mtx[:,~np.all(mtx == 0, axis = 0)]\n",
    "mtx = mtx[~np.all(mtx == 0, axis=1)]\n",
    "\n",
    "\n",
    "np.count_nonzero(mtx)"
   ]
  },
  {
   "cell_type": "code",
   "execution_count": 15,
   "metadata": {},
   "outputs": [
    {
     "data": {
      "text/plain": [
       "<AxesSubplot: >"
      ]
     },
     "execution_count": 15,
     "metadata": {},
     "output_type": "execute_result"
    },
    {
     "data": {
      "image/png": "[encoded data removed]",
      "text/plain": [
       "<Figure size 640x480 with 2 Axes>"
      ]
     },
     "metadata": {},
     "output_type": "display_data"
    }
   ],
   "source": [
    "sns.heatmap(mtx)\n"
   ]
  },
  {
   "cell_type": "code",
   "execution_count": 16,
   "metadata": {},
   "outputs": [
    {
     "data": {
      "text/plain": [
       "(92, 118)"
      ]
     },
     "execution_count": 16,
     "metadata": {},
     "output_type": "execute_result"
    }
   ],
   "source": [
    "mtx.shape"
   ]
  },
  {
   "cell_type": "code",
   "execution_count": 17,
   "metadata": {},
   "outputs": [],
   "source": [
    "# Writer = animation.writers['ffmpeg']\n",
    "# writer = Writer(fps=20, metadata=dict(artist='Me'), bitrate=1800)\n",
    "\n",
    "# fig = plt.figure(figsize=(10,6))\n",
    "# plt.xlim(0, mtx.shape[1])\n",
    "# plt.ylim(0, mtx.shape[0])\n",
    "\n",
    "# def animate(i):\n",
    "#     data = overdose.iloc[:int(i+1)] #select data range\n",
    "#     p = sns.lineplot(x=data.index, y=data[title], data=data, color=\"r\")\n",
    "#     p.tick_params(labelsize=17)\n",
    "#     plt.setp(p.lines,linewidth=7)"
   ]
  },
  {
   "cell_type": "markdown",
   "metadata": {},
   "source": [
    "--- Part Two ---  \n",
    "\n",
    "The next year, to speed up the process, Santa creates a robot version of himself, Robo-Santa, to deliver presents with him.\n",
    "\n",
    "Santa and Robo-Santa start at the same location (delivering two presents to the same starting house), then take turns moving based on instructions from the elf, who is eggnoggedly reading from the same script as the previous year.\n",
    "\n",
    "<p style = 'color:yellow;'>This year, how many houses receive at least one present?</p>\n",
    "\n",
    "For example:\n",
    "\n",
    "`^v` delivers presents to 3 houses, because Santa goes north, and then Robo-Santa goes south.  \n",
    "`^>v<` now delivers presents to 3 houses, and Santa and Robo-Santa end up back where they started.  \n",
    "`^v^v^v^v^v` now delivers presents to 11 houses, with Santa going one direction and Robo-Santa going the other."
   ]
  },
  {
   "cell_type": "code",
   "execution_count": 18,
   "metadata": {},
   "outputs": [],
   "source": [
    "# test_line = '^v^v^v^v^v'\n",
    "\n",
    "santa = ''\n",
    "robot = ''\n",
    "\n",
    "for i, x in enumerate(line):\n",
    "    if i == 0:\n",
    "        santa = santa+x\n",
    "        # robot = robot+x\n",
    "    elif i%2==0:\n",
    "        santa = santa+x\n",
    "    elif i%2!=0:\n",
    "        robot = robot+x"
   ]
  },
  {
   "cell_type": "code",
   "execution_count": 19,
   "metadata": {},
   "outputs": [],
   "source": [
    "# summary matrix\n",
    "ans = Counter(line)\n",
    "mtx_santa = np.zeros(matrix_size(ans))\n",
    "mtx_robot = np.zeros(matrix_size(ans))"
   ]
  },
  {
   "cell_type": "code",
   "execution_count": 20,
   "metadata": {},
   "outputs": [],
   "source": [
    "# santa\n",
    "central_col = int((len(mtx_santa[0])/2)-0.5)\n",
    "central_row = int((len(mtx_santa[:, 0])/2)-0.5)\n",
    "mtx_santa[central_row, central_col] = 1\n",
    "\n",
    "col = central_col\n",
    "row = central_row\n",
    "\n",
    "for i in santa:\n",
    "    temp = step_dict[i]\n",
    "    col = col+temp[0]\n",
    "    row = row+temp[1]\n",
    "    mtx_santa[row, col] += 1"
   ]
  },
  {
   "cell_type": "code",
   "execution_count": 21,
   "metadata": {},
   "outputs": [],
   "source": [
    "# robot\n",
    "central_col = int((len(mtx_robot[0])/2)-0.5)\n",
    "central_row = int((len(mtx_robot[:, 0])/2)-0.5)\n",
    "mtx_robot[central_row, central_col] = 0\n",
    "\n",
    "col = central_col\n",
    "row = central_row\n",
    "\n",
    "for i in robot:\n",
    "    temp = step_dict[i]\n",
    "    col = col+temp[0]\n",
    "    row = row+temp[1]\n",
    "    mtx_robot[row, col] += 1"
   ]
  },
  {
   "cell_type": "code",
   "execution_count": 22,
   "metadata": {},
   "outputs": [
    {
     "data": {
      "text/plain": [
       "2631"
      ]
     },
     "execution_count": 22,
     "metadata": {},
     "output_type": "execute_result"
    }
   ],
   "source": [
    "mtx_both = mtx_santa+mtx_robot\n",
    "\n",
    "mtx_both = mtx_both[:,~np.all(mtx_both == 0, axis = 0)]\n",
    "mtx_both = mtx_both[~np.all(mtx_both == 0, axis=1)]\n",
    "\n",
    "np.count_nonzero(mtx_both)"
   ]
  },
  {
   "cell_type": "code",
   "execution_count": 23,
   "metadata": {},
   "outputs": [
    {
     "data": {
      "text/plain": [
       "<AxesSubplot: >"
      ]
     },
     "execution_count": 23,
     "metadata": {},
     "output_type": "execute_result"
    },
    {
     "data": {
      "image/png": "[encoded data removed]",
      "text/plain": [
       "<Figure size 640x480 with 2 Axes>"
      ]
     },
     "metadata": {},
     "output_type": "display_data"
    }
   ],
   "source": [
    "sns.heatmap(mtx_both)"
   ]
  },
  {
   "cell_type": "markdown",
   "metadata": {},
   "source": [
    "--- Day 4: The Ideal Stocking Stuffer ---  \n",
    "\n",
    "Santa needs help mining some AdventCoins (very similar to bitcoins) to use as gifts for all the economically forward-thinking little girls and boys.\n",
    "\n",
    "To do this, he needs to find [MD5]('https://en.wikipedia.org/wiki/MD5') hashes which, in [hexadecimal]('https://en.wikipedia.org/wiki/Hexadecimal'), start with at least `five zeroes`. The input to the MD5 hash is some secret key (your puzzle input, given below) followed by a number in decimal. \n",
    "<p style = 'color:yellow;'>To mine AdventCoins, you must find Santa the lowest positive number (no leading zeroes: 1, 2, 3, ...) that produces such a hash.</p>\n",
    "\n",
    "For example:\n",
    "\n",
    "- If your secret key is `abcdef`, the answer is `609043`, because the MD5 hash of `abcdef609043` starts with five zeroes (`000001dbbfa...`), and it is the lowest such number to do so.\n",
    "- If your secret key is `pqrstuv`, the lowest number it combines with to make an MD5 hash starting with five zeroes is `1048970`; that is, the MD5 hash of `pqrstuv1048970` looks like `000006136ef....`  \n",
    "\n",
    "Your puzzle input is `iwrupvqb`."
   ]
  },
  {
   "cell_type": "code",
   "execution_count": 24,
   "metadata": {},
   "outputs": [
    {
     "name": "stdout",
     "output_type": "stream",
     "text": [
      "346386\n"
     ]
    }
   ],
   "source": [
    "data = 'iwrupvqb'\n",
    "num = 0\n",
    "while True:\n",
    "    str2hash = data + str(num)\n",
    "    result = hashlib.md5(str2hash.encode())\n",
    "    if result.hexdigest()[0:5] == \"00000\":\n",
    "        break\n",
    "        \n",
    "    num+=1\n",
    "print(num)"
   ]
  },
  {
   "cell_type": "markdown",
   "metadata": {},
   "source": [
    "<p style = 'color:yellow;'>Now find one that starts with `six zeroes`.</p>"
   ]
  },
  {
   "cell_type": "code",
   "execution_count": 25,
   "metadata": {},
   "outputs": [
    {
     "name": "stdout",
     "output_type": "stream",
     "text": [
      "9958218\n"
     ]
    }
   ],
   "source": [
    "data = 'iwrupvqb'\n",
    "num = 0\n",
    "while True:\n",
    "    str2hash = data + str(num)\n",
    "    result = hashlib.md5(str2hash.encode())\n",
    "    if result.hexdigest()[0:6] == \"000000\":\n",
    "        break\n",
    "        \n",
    "    num+=1\n",
    "print(num)"
   ]
  },
  {
   "cell_type": "markdown",
   "metadata": {},
   "source": [
    "--- Day 5: Doesn't He Have Intern-Elves For This? ---  \n",
    "\n",
    "Santa needs help figuring out which strings in his text file are naughty or nice.\n",
    "\n",
    "A nice string is one with all of the following properties:\n",
    "\n",
    "- It contains at least three vowels (`aeiou` only), like `aei`, `xazegov`, or `aeiouaeiouaeiou`.\n",
    "- It contains at least one letter that appears twice in a row, like `xx`, `abcdde` (dd), or `aabbccdd` (aa, bb, cc, or dd).\n",
    "- It does not contain the strings `ab`, `cd`, `pq`, or `xy`, even if they are part of one of the other requirements.\n",
    "\n",
    "For example:  \n",
    "\n",
    "- `ugknbfddgicrmopn` is nice because it has at least three vowels (`u...i...o...`), a double letter (`...dd...`), and none of the disallowed substrings.\n",
    "- `aaa` is nice because it has at least three vowels and a double letter, even though the letters used by different rules overlap.\n",
    "- `jchzalrnumimnmhp` is naughty because it has no double letter.\n",
    "- `haegwjzuvuyypxyu` is naughty because it contains the string `xy`.\n",
    "- `dvszwmarrgswjxmb` is naughty because it contains only one vowel.\n",
    "\n",
    "<p style = 'color:yellow;'>How many strings are nice?</p>"
   ]
  },
  {
   "cell_type": "code",
   "execution_count": 26,
   "metadata": {},
   "outputs": [],
   "source": [
    "with open('day_5.txt', 'r') as f:\n",
    "    line = f.read().split('\\n')"
   ]
  },
  {
   "cell_type": "code",
   "execution_count": 27,
   "metadata": {},
   "outputs": [],
   "source": [
    "test_lines = ['ugknbfddgicrmopn', 'aaa','jchzalrnumimnmhp', 'haegwjzuvuyypxyu', 'dvszwmarrgswjxmb']"
   ]
  },
  {
   "cell_type": "code",
   "execution_count": 28,
   "metadata": {},
   "outputs": [],
   "source": [
    "vowels_str = 'aeiou'\n",
    "bad_pairs = ['ab', 'cd', 'pq', 'xy']\n",
    "regexp = re.compile(r\"(.)\\1\")\n",
    "\n",
    "def check_nice_string(input_str:str):\n",
    "    out_str = input_str.translate(input_str.maketrans('','',vowels_str)).replace('  ', ' ').strip()\n",
    "    if len(input_str) - len(out_str) >=3:\n",
    "        if re.search(regexp, input_str):\n",
    "            counter = 0\n",
    "            for p in bad_pairs:\n",
    "                if p not in input_str:\n",
    "                    counter+=1\n",
    "                    \n",
    "                    if counter == len(bad_pairs):\n",
    "                        return True\n",
    "                    \n",
    "                else:\n",
    "                    return False\n",
    "        else:\n",
    "            return False\n",
    "    else:\n",
    "        return False"
   ]
  },
  {
   "cell_type": "code",
   "execution_count": 29,
   "metadata": {},
   "outputs": [
    {
     "name": "stdout",
     "output_type": "stream",
     "text": [
      "236\n"
     ]
    }
   ],
   "source": [
    "nice_counter = 0\n",
    "for i in line:\n",
    "    if check_nice_string(i):\n",
    "        nice_counter+=1\n",
    "        \n",
    "print(nice_counter)"
   ]
  },
  {
   "cell_type": "markdown",
   "metadata": {},
   "source": [
    "--- Part Two ---  \n",
    "\n",
    "Realizing the error of his ways, Santa has switched to a better model of determining whether a string is naughty or nice. None of the old rules apply, as they are all clearly ridiculous.\n",
    "\n",
    "Now, a nice string is one with all of the following properties:\n",
    "\n",
    "- It contains a pair of any two letters that appears at least twice in the string without overlapping, like `xyxy` (`xy`) or `aabcdefgaa` (`aa`), but not like `aaa` (`aa`, but it overlaps).\n",
    "- It contains at least one letter which repeats with exactly one letter between them, like `xyx`, `abcdefeghi` (`efe`), or even `aaa`.\n",
    "\n",
    "For example:\n",
    "\n",
    "- `qjhvhtzxzqqjkmpb` is nice because is has a pair that appears twice (`qj`) and a letter that repeats with exactly one letter between them (`zxz`).\n",
    "- `xxyxx` is nice because it has a pair that appears twice and a letter that repeats with one between, even though the letters used by each rule overlap.\n",
    "- `uurcxstgmygtbstg` is naughty because it has a pair (`tg`) but no repeat with a single letter between them.\n",
    "- `ieodomkazucvgmuy` is naughty because it has a repeating letter with one between (`odo`), but no pair that appears twice.\n",
    "\n",
    "<p style = 'color:yellow;'>How many strings are nice under these new rules?</p>"
   ]
  },
  {
   "cell_type": "code",
   "execution_count": 30,
   "metadata": {},
   "outputs": [],
   "source": [
    "test_lines = ['qjhvhtzxzqqjkmpb', 'xxyxx','uurcxstgmygtbstg', 'ieodomkazucvgmuy']"
   ]
  },
  {
   "cell_type": "code",
   "execution_count": 31,
   "metadata": {},
   "outputs": [],
   "source": [
    "def create_ngrams(word:str, n:int)->list:\n",
    "    # Break word into tokens\n",
    "    tokens = [token for token in word]\n",
    "    # generate ngram using zip\n",
    "    ngrams = zip(*[tokens[i:] for i in range(n)])\n",
    "    # concat with empty space & return\n",
    "    return [''.join(ngram) for ngram in ngrams]\n",
    "\n",
    "def slicer(word:str, n:int):\n",
    "    start_seq = word[:n]\n",
    "    final = word[n:]\n",
    "    if start_seq in final:\n",
    "        return True\n",
    "    elif start_seq not in final and len(final)==2:\n",
    "        return False\n",
    "    else:\n",
    "        output_str = word[1:]\n",
    "        return slicer(output_str, n)\n",
    "    \n",
    "def triple_checker(word:str, n:int):\n",
    "    start_seq = word[:n]\n",
    "    if start_seq[0]==start_seq[n-1]:\n",
    "        return True\n",
    "    elif start_seq[0]!=start_seq[n-1] and len(word)==3:\n",
    "        return False\n",
    "    elif start_seq[0]!=start_seq[n-1]:\n",
    "        output_str = word[1:]\n",
    "        return triple_checker(output_str, n)\n",
    "    \n",
    "\n",
    "\n",
    "\n",
    "def check_nice_string_2(input_str:str):\n",
    "    pair_counter = 0\n",
    "    if slicer(input_str, 2):\n",
    "        pair_counter+=1\n",
    "    \n",
    "    triple_counter = 0\n",
    "    if triple_checker(input_str, 3):\n",
    "        triple_counter+=1\n",
    "        \n",
    "    if bool(triple_counter)+bool(pair_counter)==2:\n",
    "        return True\n",
    "    else:\n",
    "        return False"
   ]
  },
  {
   "cell_type": "code",
   "execution_count": 32,
   "metadata": {},
   "outputs": [
    {
     "name": "stdout",
     "output_type": "stream",
     "text": [
      "51\n"
     ]
    }
   ],
   "source": [
    "nice_counter = 0\n",
    "for sent in line:\n",
    "    if check_nice_string_2(sent):\n",
    "        nice_counter+=1\n",
    "\n",
    "print(nice_counter)"
   ]
  },
  {
   "cell_type": "code",
   "execution_count": 33,
   "metadata": {},
   "outputs": [
    {
     "name": "stdout",
     "output_type": "stream",
     "text": [
      "aaaa True\n",
      "aaabcb False\n"
     ]
    }
   ],
   "source": [
    "test_lines = ['aaaa', 'aaabcb']\n",
    "\n",
    "for i in test_lines:\n",
    "    print(i, check_nice_string_2(i))"
   ]
  },
  {
   "cell_type": "markdown",
   "metadata": {},
   "source": [
    "--- Day 6: Probably a Fire Hazard ---  \n",
    "\n",
    "Because your neighbors keep defeating you in the holiday house decorating contest year after year, you've decided to deploy one million lights in a 1000x1000 grid.\n",
    "\n",
    "Furthermore, because you've been especially nice this year, Santa has mailed you instructions on how to display the ideal lighting configuration.\n",
    "\n",
    "Lights in your grid are numbered from 0 to 999 in each direction; the lights at each corner are at `0,0`, `0,999`, `999,999`, and `999,0`. The instructions include whether to `turn on`, `turn off`, or `toggle` various inclusive ranges given as coordinate pairs. Each coordinate pair represents opposite corners of a rectangle, inclusive; a coordinate pair like `0,0 through 2,2` therefore refers to 9 lights in a 3x3 square. The lights all start turned off.\n",
    "\n",
    "To defeat your neighbors this year, all you have to do is set up your lights by doing the instructions Santa sent you in order.\n",
    "\n",
    "For example:\n",
    "\n",
    "- `turn on 0,0 through 999,999` would turn on (or leave on) every light.\n",
    "- `toggle 0,0 through 999,0` would toggle the first line of 1000 lights, turning off the ones that were on, and turning on the ones that were off.\n",
    "- `turn off 499,499 through 500,500` would turn off (or leave off) the middle four lights.\n",
    "\n",
    "<p style = 'color:yellow;'>After following the instructions, how many lights are lit?<p>"
   ]
  },
  {
   "cell_type": "code",
   "execution_count": 34,
   "metadata": {},
   "outputs": [],
   "source": [
    "with open('day_6.txt', 'r') as f:\n",
    "    line = f.read().split('\\n')"
   ]
  },
  {
   "cell_type": "code",
   "execution_count": 35,
   "metadata": {},
   "outputs": [],
   "source": [
    "test_lines = ['turn on 0,0 through 999,999', 'toggle 0,0 through 999,0', 'turn off 499,499 through 500,500']"
   ]
  },
  {
   "cell_type": "code",
   "execution_count": 36,
   "metadata": {},
   "outputs": [],
   "source": [
    "def lights_counter(input_str:str, matrix):\n",
    "    pattern = r'(\\d+),(\\d+)'\n",
    "    ans_match = re.findall(pattern=pattern, string=input_str)\n",
    "    \n",
    "    line_1 = int(ans_match[0][0])\n",
    "    line_2 = int(ans_match[1][0])\n",
    "    col_1 = int(ans_match[0][1])\n",
    "    col_2 = int(ans_match[1][1])\n",
    "    \n",
    "    # print(line_1, line_2, col_1, col_2)\n",
    "    \n",
    "    if input_str.startswith('turn on'):\n",
    "        matrix[line_1:line_2+1, col_1:col_2+1] = 1\n",
    "    elif input_str.startswith('turn off'):\n",
    "        matrix[line_1:line_2+1, col_1:col_2+1] = 0\n",
    "    elif input_str.startswith('toggle'):\n",
    "        matrix[line_1:line_2+1, col_1:col_2+1] -=1\n",
    "        matrix = abs(matrix)\n",
    "                \n",
    "    return matrix"
   ]
  },
  {
   "cell_type": "code",
   "execution_count": 37,
   "metadata": {},
   "outputs": [
    {
     "data": {
      "text/plain": [
       "543903"
      ]
     },
     "execution_count": 37,
     "metadata": {},
     "output_type": "execute_result"
    }
   ],
   "source": [
    "mtx = np.zeros([1000,1000])\n",
    "\n",
    "for i in line:\n",
    "    mtx = lights_counter(input_str=i, matrix=mtx)\n",
    "    \n",
    "int(np.count_nonzero(mtx))"
   ]
  },
  {
   "cell_type": "code",
   "execution_count": 38,
   "metadata": {},
   "outputs": [
    {
     "data": {
      "text/plain": [
       "<AxesSubplot: >"
      ]
     },
     "execution_count": 38,
     "metadata": {},
     "output_type": "execute_result"
    },
    {
     "data": {
      "image/png": "[encoded data removed]",
      "text/plain": [
       "<Figure size 640x480 with 2 Axes>"
      ]
     },
     "metadata": {},
     "output_type": "display_data"
    }
   ],
   "source": [
    "sns.heatmap(mtx)"
   ]
  },
  {
   "cell_type": "markdown",
   "metadata": {},
   "source": [
    "--- Part Two ---  \n",
    "\n",
    "You just finish implementing your winning light pattern when you realize you mistranslated Santa's message from Ancient Nordic Elvish.\n",
    "\n",
    "The light grid you bought actually has individual brightness controls; each light can have a brightness of zero or more. The lights all start at zero.\n",
    "\n",
    "The phrase `turn on` actually means that you should increase the brightness of those lights by 1.\n",
    "\n",
    "The phrase `turn off` actually means that you should decrease the brightness of those lights by 1, to a minimum of zero.\n",
    "\n",
    "The phrase `toggle` actually means that you should increase the brightness of those lights by 2.\n",
    "\n",
    "<p style = 'color:yellow;'>What is the total brightness of all lights combined after following Santa's instructions?</p>\n",
    "\n",
    "For example:\n",
    "\n",
    "- turn on 0,0 through 0,0 would increase the total brightness by 1.\n",
    "- toggle 0,0 through 999,999 would increase the total brightness by 2000000."
   ]
  },
  {
   "cell_type": "code",
   "execution_count": 39,
   "metadata": {},
   "outputs": [],
   "source": [
    "test_lines = ['turn on 0,0 through 0,0', 'toggle 0,0 through 999,999']"
   ]
  },
  {
   "cell_type": "code",
   "execution_count": 40,
   "metadata": {},
   "outputs": [],
   "source": [
    "def lights_counter_upper(input_str:str, matrix):\n",
    "    pattern = r'(\\d+),(\\d+)'\n",
    "    ans_match = re.findall(pattern=pattern, string=input_str)\n",
    "    \n",
    "    line_1 = int(ans_match[0][0])\n",
    "    line_2 = int(ans_match[1][0])\n",
    "    col_1 = int(ans_match[0][1])\n",
    "    col_2 = int(ans_match[1][1])\n",
    "    \n",
    "    if input_str.startswith('turn on'):\n",
    "        matrix[line_1:line_2+1, col_1:col_2+1] += 1\n",
    "    elif input_str.startswith('turn off'):\n",
    "        matrix[line_1:line_2+1, col_1:col_2+1] -= 1\n",
    "        matrix = matrix.clip(0)\n",
    "    elif input_str.startswith('toggle'):\n",
    "        matrix[line_1:line_2+1, col_1:col_2+1] += 2\n",
    "        \n",
    "    return matrix"
   ]
  },
  {
   "cell_type": "code",
   "execution_count": 41,
   "metadata": {},
   "outputs": [],
   "source": [
    "mtx = np.zeros([1000,1000])\n",
    "\n",
    "list_of_matrix = []\n",
    "\n",
    "for i in line:\n",
    "    mtx = lights_counter_upper(input_str=i, matrix=mtx)\n",
    "    list_of_matrix.append(mtx)"
   ]
  },
  {
   "cell_type": "code",
   "execution_count": 45,
   "metadata": {},
   "outputs": [],
   "source": [
    "fig = go.Figure(\n",
    "    data=[go.Heatmap(z=list_of_matrix[0])],\n",
    "    layout=go.Layout(\n",
    "        title=\"Frame 0\",\n",
    "        updatemenus=[dict(\n",
    "            type=\"buttons\",\n",
    "            buttons=[dict(label=\"Play\",\n",
    "                          method=\"animate\",\n",
    "                          args=[None])])]\n",
    "    ),\n",
    "    frames=[go.Frame(data=[go.Heatmap(z=list_of_matrix[i])],\n",
    "                     layout=go.Layout(title_text=f\"Frame {i}\")) \n",
    "            for i in range(1, len(list_of_matrix))]\n",
    ")\n",
    "\n",
    "fig.show()"
   ]
  },
  {
   "cell_type": "code",
   "execution_count": 272,
   "metadata": {},
   "outputs": [
    {
     "data": {
      "text/plain": [
       "14687245"
      ]
     },
     "execution_count": 272,
     "metadata": {},
     "output_type": "execute_result"
    }
   ],
   "source": [
    "int(np.sum(mtx))"
   ]
  },
  {
   "cell_type": "code",
   "execution_count": 273,
   "metadata": {},
   "outputs": [
    {
     "data": {
      "text/plain": [
       "<AxesSubplot: >"
      ]
     },
     "execution_count": 273,
     "metadata": {},
     "output_type": "execute_result"
    },
    {
     "data": {
      "image/png": "[encoded data removed]",
      "text/plain": [
       "<Figure size 640x480 with 2 Axes>"
      ]
     },
     "metadata": {},
     "output_type": "display_data"
    }
   ],
   "source": [
    "sns.heatmap(mtx)"
   ]
  },
  {
   "cell_type": "markdown",
   "metadata": {},
   "source": [
    "--- Day 7: Some Assembly Required ---\n",
    "\n",
    "This year, Santa brought little Bobby Tables a set of wires and [bitwise logic gates](https://en.wikipedia.org/wiki/Bitwise_operation)! Unfortunately, little Bobby is a little under the recommended age range, and he needs help assembling the circuit.\n",
    "\n",
    "Each wire has an identifier (some lowercase letters) and can carry a 16-bit signal (a number from 0 to 65535). A signal is provided to each wire by a gate, another wire, or some specific value. Each wire can only get a signal from one source, but can provide its signal to multiple destinations. A gate provides no signal until all of its inputs have a signal.\n",
    "\n",
    "The included instructions booklet describes how to connect the parts together: x AND y -> z means to connect wires x and y to an AND gate, and then connect its output to wire z.\n",
    "\n",
    "For example:\n",
    "\n",
    "- `123 -> x` means that the signal 123 is provided to wire x.\n",
    "- `x AND y -> z` means that the bitwise AND of wire x and wire y is provided to wire z.\n",
    "- `p LSHIFT 2 -> q` means that the value from wire p is left-shifted by 2 and then provided to wire q.\n",
    "- `NOT e -> f` means that the bitwise complement of the value from wire e is provided to wire f.\n",
    "\n",
    "Other possible gates include OR (bitwise OR) and RSHIFT (right-shift). If, for some reason, you'd like to emulate the circuit instead, almost all programming languages (for example, C, JavaScript, or Python) provide operators for these gates.\n",
    "\n",
    "For example, here is a simple circuit:\n",
    "\n",
    "```\n",
    "123 -> x\n",
    "456 -> y\n",
    "x AND y -> d\n",
    "x OR y -> e\n",
    "x LSHIFT 2 -> f\n",
    "y RSHIFT 2 -> g\n",
    "NOT x -> h\n",
    "NOT y -> i\n",
    "```\n",
    "\n",
    "After it is run, these are the signals on the wires:\n",
    "\n",
    "```\n",
    "d: 72\n",
    "e: 507\n",
    "f: 492\n",
    "g: 114\n",
    "h: 65412\n",
    "i: 65079\n",
    "x: 123\n",
    "y: 456\n",
    "```\n",
    "\n",
    "<p style = \"color:yellow\">In little Bobby's kit's instructions booklet (provided as your puzzle input), what signal is ultimately provided to wire a?</p>\n",
    "\n"
   ]
  },
  {
   "cell_type": "code",
   "execution_count": null,
   "metadata": {},
   "outputs": [],
   "source": []
  }
 ],
 "metadata": {
  "kernelspec": {
   "display_name": "study_env",
   "language": "python",
   "name": "python3"
  },
  "language_info": {
   "codemirror_mode": {
    "name": "ipython",
    "version": 3
   },
   "file_extension": ".py",
   "mimetype": "text/x-python",
   "name": "python",
   "nbconvert_exporter": "python",
   "pygments_lexer": "ipython3",
   "version": "3.11.0"
  }
 },
 "nbformat": 4,
 "nbformat_minor": 2
}
