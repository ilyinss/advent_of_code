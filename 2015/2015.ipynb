{
 "cells": [
  {
   "cell_type": "markdown",
   "metadata": {},
   "source": [
    "--- Day 1: Not Quite Lisp ---  \n",
    "Santa was hoping for a white Christmas, but his weather machine's \"snow\" function is powered by stars, and he's fresh out! To save Christmas, he needs you to collect fifty stars by December 25th.\n",
    "\n",
    "Collect stars by helping Santa solve puzzles. Two puzzles will be made available on each day in the Advent calendar; the second puzzle is unlocked when you complete the first. Each puzzle grants one star. Good luck!\n",
    "\n",
    "Here's an easy puzzle to warm you up.\n",
    "\n",
    "Santa is trying to deliver presents in a large apartment building, but he can't find the right floor - the directions he got are a little confusing. He starts on the ground floor `(floor 0)` and then follows the instructions one character at a time.\n",
    "\n",
    "An opening parenthesis, (, means he should go up one floor, and a closing parenthesis, ), means he should go down one floor.\n",
    "\n",
    "The apartment building is very tall, and the basement is very deep; he will never find the top or bottom floors.\n",
    "\n",
    "For example:\n",
    "\n",
    "```\n",
    "(()) and ()() both result in floor 0.\n",
    "((( and (()(()( both result in floor 3.\n",
    "))((((( also results in floor 3.\n",
    "()) and ))( both result in floor -1 (the first basement level).\n",
    "))) and )())()) both result in floor -3.\n",
    "To what floor do the instructions take Santa?\n",
    "```"
   ]
  },
  {
   "cell_type": "code",
   "execution_count": 2,
   "metadata": {},
   "outputs": [],
   "source": [
    "with open('day_1.txt', 'r') as f:\n",
    "    line = f.read()"
   ]
  },
  {
   "cell_type": "code",
   "execution_count": 11,
   "metadata": {},
   "outputs": [
    {
     "name": "stdout",
     "output_type": "stream",
     "text": [
      "74\n"
     ]
    }
   ],
   "source": [
    "count = 0\n",
    "for i, ch in enumerate(line):\n",
    "    if ch == '(':\n",
    "        count += 1\n",
    "    elif ch == ')':\n",
    "        count -= 1\n",
    "                \n",
    "print(count)"
   ]
  },
  {
   "cell_type": "markdown",
   "metadata": {},
   "source": [
    "--- Part Two ---\n",
    "Now, given the same instructions, find the position of the first character that causes him to enter the basement (floor -1). The first character in the instructions has position 1, the second character has position 2, and so on.\n",
    "\n",
    "For example:\n",
    "```\n",
    "`)` causes him to enter the basement at character position 1.  \n",
    "`()())` causes him to enter the basement at character position 5.  \n",
    "```\n",
    "\n",
    "What is the position of the character that causes Santa to first enter the basement?"
   ]
  },
  {
   "cell_type": "code",
   "execution_count": 10,
   "metadata": {},
   "outputs": [
    {
     "name": "stdout",
     "output_type": "stream",
     "text": [
      "1795\n"
     ]
    }
   ],
   "source": [
    "count = 0\n",
    "basement = 0\n",
    "for i, ch in enumerate(line):\n",
    "    if ch == '(':\n",
    "        count += 1\n",
    "    elif ch == ')':\n",
    "        count -= 1\n",
    "    if basement == 0 and count == -1:\n",
    "        basement = i+1\n",
    "        \n",
    "print(basement)"
   ]
  },
  {
   "cell_type": "markdown",
   "metadata": {},
   "source": [
    "--- Day 2: I Was Told There Would Be No Math ---  \n",
    "The elves are running low on wrapping paper, and so they need to submit an order for more. They have a list of the dimensions (length l, width w, and height h) of each present, and only want to order exactly as much as they need.\n",
    "\n",
    "Fortunately, every present is a box (a [perfect right rectangular prism]('https://en.wikipedia.org/wiki/Cuboid#Rectangular_cuboid')), which makes calculating the required wrapping paper for each gift a little easier: find the surface area of the box, which is `2*l*w + 2*w*h + 2*h*l`. The elves also need a little extra paper for each present: the area of the smallest side.\n",
    "\n",
    "For example:\n",
    "\n",
    "- A present with dimensions `2x3x4` requires `2*6 + 2*12 + 2*8 = 52` square feet of wrapping paper plus 6 square feet of slack, for a total of 58 square feet.  \n",
    "- A present with dimensions `1x1x10` requires `2*1 + 2*10 + 2*10 = 42` square feet of wrapping paper plus 1 square foot of slack, for a total of 43 square feet.  \n",
    "\n",
    "\n",
    "All numbers in the elves' list are in feet. How many total square feet of wrapping paper should they order?"
   ]
  },
  {
   "cell_type": "code",
   "execution_count": 9,
   "metadata": {},
   "outputs": [],
   "source": [
    "with open('day_2.txt', 'r') as f:\n",
    "    line = f.read().splitlines()"
   ]
  },
  {
   "cell_type": "code",
   "execution_count": 10,
   "metadata": {},
   "outputs": [],
   "source": [
    "def cuboid(input_str:str)->int:\n",
    "    prep = input_str.split('x')\n",
    "    prep_int = [int(x) for x in prep]\n",
    "    ans_list = []\n",
    "    lw = prep_int[0]*prep_int[1]\n",
    "    wh = prep_int[1]*prep_int[2]\n",
    "    hl = prep_int[2]*prep_int[0]\n",
    "    for i in [lw, wh, hl]:\n",
    "        ans_list.append(i)\n",
    "    ans_list = sorted(ans_list)\n",
    "    minimum = ans_list[0]\n",
    "    side_sum = sum([x*2 for x in [lw+wh+hl]])\n",
    "    \n",
    "    return side_sum+minimum"
   ]
  },
  {
   "cell_type": "code",
   "execution_count": 11,
   "metadata": {},
   "outputs": [
    {
     "data": {
      "text/plain": [
       "58"
      ]
     },
     "execution_count": 11,
     "metadata": {},
     "output_type": "execute_result"
    }
   ],
   "source": [
    "# test\n",
    "cuboid('2x3x4')"
   ]
  },
  {
   "cell_type": "code",
   "execution_count": 12,
   "metadata": {},
   "outputs": [
    {
     "name": "stdout",
     "output_type": "stream",
     "text": [
      "1586300\n"
     ]
    }
   ],
   "source": [
    "total_sum = 0\n",
    "for i in line:\n",
    "    total_sum+=cuboid(i)\n",
    "    \n",
    "print(total_sum)"
   ]
  },
  {
   "cell_type": "markdown",
   "metadata": {},
   "source": [
    "--- Part Two ---  \n",
    "The elves are also running low on ribbon. Ribbon is all the same width, so they only have to worry about the length they need to order, which they would again like to be exact.\n",
    "\n",
    "The ribbon required to wrap a present is the shortest distance around its sides, or the smallest perimeter of any one face. Each present also requires a bow made out of ribbon as well; the feet of ribbon required for the perfect bow is equal to the cubic feet of volume of the present. Don't ask how they tie the bow, though; they'll never tell.\n",
    "\n",
    "For example:\n",
    "\n",
    "- A present with dimensions `2x3x4` requires `2+2+3+3 = 10` feet of ribbon to wrap the present plus `2*3*4 = 24` feet of ribbon for the bow, for a total of 34 feet.  \n",
    "- A present with dimensions `1x1x10` requires `1+1+1+1 = 4` feet of ribbon to wrap the present plus `1*1*10 = 10` feet of ribbon for the bow, for a total of 14 feet.  \n",
    "\n",
    "How many total feet of ribbon should they order?"
   ]
  },
  {
   "cell_type": "code",
   "execution_count": 13,
   "metadata": {},
   "outputs": [],
   "source": [
    "import math\n",
    "\n",
    "def cuboid_2(input_str:str)->int:\n",
    "    prep = input_str.split('x')\n",
    "    prep_int = sorted([int(x) for x in prep])\n",
    "    \n",
    "    ribbon_wrap = sum(prep_int[0:2]*2)    \n",
    "    ribbon_bow = math.prod(prep_int)\n",
    "    \n",
    "    return ribbon_wrap+ribbon_bow"
   ]
  },
  {
   "cell_type": "code",
   "execution_count": 15,
   "metadata": {},
   "outputs": [
    {
     "name": "stdout",
     "output_type": "stream",
     "text": [
      "3737498\n"
     ]
    }
   ],
   "source": [
    "# cuboid_2('2x3x4')\n",
    "total_sum = 0\n",
    "for i in line:\n",
    "    total_sum+=cuboid_2(i)\n",
    "    \n",
    "print(total_sum)"
   ]
  },
  {
   "cell_type": "markdown",
   "metadata": {},
   "source": [
    "--- Day 3: Perfectly Spherical Houses in a Vacuum ---  \n",
    "Santa is delivering presents to an infinite two-dimensional grid of houses.\n",
    "\n",
    "He begins by delivering a present to the house at his starting location, and then an elf at the North Pole calls him via radio and tells him where to move next. Moves are always exactly one house to the north (^), south (v), east (>), or west (<). After each move, he delivers another present to the house at his new location.\n",
    "\n",
    "However, the elf back at the north pole has had a little too much eggnog, and so his directions are a little off, and Santa ends up visiting some houses more than once. How many houses receive at least one present?\n",
    "\n",
    "For example:\n",
    "\n",
    "    `>` delivers presents to 2 houses: one at the starting location, and one to the east.  \n",
    "    `^>v<` delivers presents to 4 houses in a square, including twice to the house at his starting/ending location.  \n",
    "    `^v^v^v^v^v` delivers a bunch of presents to some very lucky children at only 2 houses.  "
   ]
  },
  {
   "cell_type": "code",
   "execution_count": 109,
   "metadata": {},
   "outputs": [],
   "source": [
    "from collections import Counter\n",
    "test_str = '^>v<'\n",
    "ans = Counter(test_str)\n",
    "# ans\n",
    "\n",
    "def matrix_size(input_dict:dict)->tuple:\n",
    "    row_counter = 2*(input_dict['<'] + input_dict['>'])\n",
    "    if row_counter%2==0:\n",
    "        row_counter+=1\n",
    "    \n",
    "    col_counter = 2*(input_dict['^'] + input_dict['v'])\n",
    "    if col_counter%2==0:\n",
    "        col_counter+=1\n",
    "    \n",
    "    return (row_counter, col_counter)\n",
    "\n",
    "step_dict = {'^': [0, -1],\n",
    "             'v': [0, 1],\n",
    "             '<': [-1, 0],\n",
    "             '>': [1, 0]}"
   ]
  },
  {
   "cell_type": "code",
   "execution_count": 144,
   "metadata": {},
   "outputs": [
    {
     "data": {
      "text/plain": [
       "Counter({'v': 2042, '>': 2007, '<': 2068, '^': 2075})"
      ]
     },
     "execution_count": 144,
     "metadata": {},
     "output_type": "execute_result"
    }
   ],
   "source": [
    "with open('day_3.txt', 'r') as f:\n",
    "    line = f.read()\n",
    "    \n",
    "ans = Counter(line)\n",
    "\n",
    "ans"
   ]
  },
  {
   "cell_type": "code",
   "execution_count": 145,
   "metadata": {},
   "outputs": [
    {
     "data": {
      "text/plain": [
       "2572"
      ]
     },
     "execution_count": 145,
     "metadata": {},
     "output_type": "execute_result"
    }
   ],
   "source": [
    "import numpy as np\n",
    "\n",
    "mtx = np.zeros(matrix_size(ans))\n",
    "\n",
    "\n",
    "central_col = int((len(mtx[0])/2)-0.5)\n",
    "central_row = int((len(mtx[:, 0])/2)-0.5)\n",
    "mtx[central_row, central_col] = 1\n",
    "\n",
    "col = central_col\n",
    "row = central_row\n",
    "\n",
    "for i in line:\n",
    "    temp = step_dict[i]\n",
    "    col = col+temp[0]\n",
    "    row = row+temp[1]\n",
    "    mtx[row, col] += 1\n",
    "\n",
    "\n",
    "mtx = mtx[:,~np.all(mtx == 0, axis = 0)]\n",
    "mtx = mtx[~np.all(mtx == 0, axis=1)]\n",
    "\n",
    "\n",
    "np.count_nonzero(mtx)"
   ]
  },
  {
   "cell_type": "markdown",
   "metadata": {},
   "source": [
    "--- Part Two ---  \n",
    "The next year, to speed up the process, Santa creates a robot version of himself, Robo-Santa, to deliver presents with him.\n",
    "\n",
    "Santa and Robo-Santa start at the same location (delivering two presents to the same starting house), then take turns moving based on instructions from the elf, who is eggnoggedly reading from the same script as the previous year.\n",
    "\n",
    "This year, how many houses receive at least one present?\n",
    "\n",
    "For example:\n",
    "\n",
    "`^v` delivers presents to 3 houses, because Santa goes north, and then Robo-Santa goes south.  \n",
    "`^>v<` now delivers presents to 3 houses, and Santa and Robo-Santa end up back where they started.  \n",
    "`^v^v^v^v^v` now delivers presents to 11 houses, with Santa going one direction and Robo-Santa going the other."
   ]
  },
  {
   "cell_type": "code",
   "execution_count": null,
   "metadata": {},
   "outputs": [],
   "source": []
  }
 ],
 "metadata": {
  "kernelspec": {
   "display_name": "study_env",
   "language": "python",
   "name": "python3"
  },
  "language_info": {
   "codemirror_mode": {
    "name": "ipython",
    "version": 3
   },
   "file_extension": ".py",
   "mimetype": "text/x-python",
   "name": "python",
   "nbconvert_exporter": "python",
   "pygments_lexer": "ipython3",
   "version": "3.11.0"
  }
 },
 "nbformat": 4,
 "nbformat_minor": 2
}
