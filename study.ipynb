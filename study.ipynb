{
 "cells": [
  {
   "cell_type": "code",
   "execution_count": 20,
   "metadata": {},
   "outputs": [],
   "source": [
    "class Node:\n",
    "    # def __init__(self, element, neighbor = None):\n",
    "    def __init__(self, element):\n",
    "        self.element = element\n",
    "        self.neighbor = []\n",
    "        \n",
    "    def add_neighbor(self, neighbor):\n",
    "        self.neighbor.append(neighbor)\n",
    "    \n",
    "    def __str__(self):\n",
    "        res = f\"{self.element} -> {self.neighbor}\"\n",
    "        return res\n",
    "    \n",
    "    \n",
    "class Graph:\n",
    "    def __init__(self):\n",
    "        self.vertex_dict = {}\n",
    "        \n",
    "    def add_vertex(self, vertex):\n",
    "        self.vertex_dict[vertex] = Node(vertex)\n",
    "        \n",
    "    # def __iter__(self):\n",
    "    #     return iter(self.vertex_dict.values())\n",
    "    \n",
    "    # def __str__(self):\n",
    "    #     return self.vertex_dict.values()"
   ]
  },
  {
   "cell_type": "code",
   "execution_count": 21,
   "metadata": {},
   "outputs": [
    {
     "name": "stdout",
     "output_type": "stream",
     "text": [
      "aaa -> ['zzz', 'xxx', 'ccc']\n"
     ]
    }
   ],
   "source": [
    "a = Node('aaa')\n",
    "a.add_neighbor('zzz')\n",
    "a.add_neighbor('xxx')\n",
    "a.add_neighbor('ccc')\n",
    "\n",
    "print(a)\n",
    "\n",
    "g = Graph()\n",
    "g.add_vertex(a)\n",
    "\n",
    "# print(g)"
   ]
  },
  {
   "cell_type": "code",
   "execution_count": null,
   "metadata": {},
   "outputs": [],
   "source": []
  }
 ],
 "metadata": {
  "kernelspec": {
   "display_name": "study_env",
   "language": "python",
   "name": "python3"
  },
  "language_info": {
   "codemirror_mode": {
    "name": "ipython",
    "version": 3
   },
   "file_extension": ".py",
   "mimetype": "text/x-python",
   "name": "python",
   "nbconvert_exporter": "python",
   "pygments_lexer": "ipython3",
   "version": "3.11.0"
  }
 },
 "nbformat": 4,
 "nbformat_minor": 2
}
