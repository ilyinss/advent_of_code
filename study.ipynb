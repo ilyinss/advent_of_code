{
 "cells": [
  {
   "cell_type": "code",
   "execution_count": 96,
   "metadata": {},
   "outputs": [],
   "source": [
    "import operator as op"
   ]
  },
  {
   "cell_type": "code",
   "execution_count": 109,
   "metadata": {},
   "outputs": [],
   "source": [
    "operations_dict = {\n",
    "    'AND' : op.and_,\n",
    "    'OR' : op.or_,\n",
    "    'LSHIFT' : op.lshift,\n",
    "    'RSHIFT' : op.rshift,\n",
    "    'NOT' : op.not_\n",
    "    }\n",
    "\n",
    "\n",
    "class Node:\n",
    "        \n",
    "    # def __init__(self, element, operations_dict=operations_dict):\n",
    "    def __init__(self, element):\n",
    "        self.element = element\n",
    "        self.neighbor = []\n",
    "        self.operator = lambda x:x\n",
    "        \n",
    "    def add_neighbor(self, neighbor):\n",
    "        self.neighbor.append(neighbor)\n",
    "        \n",
    "    def add_operation(self, operator):\n",
    "        self.operator = self.operations_dict[operator]\n",
    "    \n",
    "    def __str__(self):\n",
    "        match len(self.neighbor), type(self.operator):\n",
    "            case 1, None:\n",
    "                return f\"{self.element} -> {self.neighbor[0]}\"\n",
    "            case 1, callable():\n",
    "                return f\"{self.element} -> {self.operator}, {self.neighbor[0]}\"\n",
    "            case _:\n",
    "                return f\"{self.element} -> {self.neighbor[0]}, {self.operator}, {self.neighbor[1]}\"\n",
    "            \n",
    "            \n",
    "class Graph:\n",
    "    def __init__(self):\n",
    "        self.vertex_dict = {}\n",
    "        \n",
    "    def add_vertex(self, vertex):\n",
    "        self.vertex_dict[vertex] = Node(vertex)\n",
    "        \n",
    "    def __str__(self):\n",
    "        res = \" \".join([i for i in self.vertex_dict.keys()])\n",
    "        return res\n",
    "    \n",
    "    def __contains__(self, item):\n",
    "        return item in self.vertex_dict\n",
    "    \n",
    "    def return_list_of_vertex(self):\n",
    "        res = \" \".join(list(self.vertex_dict.keys()))\n",
    "        return res\n",
    "    \n",
    "    \n",
    "class MyInt(int):\n",
    "    def __call__(self):\n",
    "        return self \n",
    "    "
   ]
  },
  {
   "cell_type": "code",
   "execution_count": 110,
   "metadata": {},
   "outputs": [],
   "source": [
    "test_input = '''123 -> x\n",
    "456 -> y\n",
    "x AND y -> d\n",
    "x OR y -> e\n",
    "x LSHIFT 2 -> f\n",
    "y RSHIFT 2 -> g\n",
    "NOT x -> h\n",
    "NOT y -> i'''\n",
    "test_input = test_input.split('\\n')"
   ]
  },
  {
   "cell_type": "code",
   "execution_count": 111,
   "metadata": {},
   "outputs": [],
   "source": [
    "g = Graph()\n",
    "\n",
    "for line in test_input:\n",
    "    split_line = line.split(' -> ')[::-1]\n",
    "    # create Node\n",
    "    vertex = Node(split_line[0])\n",
    "    try:\n",
    "        my_int = int(split_line[1])\n",
    "        vertex.add_neighbor(my_int)\n",
    "    except:\n",
    "        split_instruction = split_line[1].split(' ')\n",
    "        for elem in split_instruction:\n",
    "            if elem not in ['AND', 'OR', 'LSHIFT', 'RSHIFT']:\n",
    "                vertex.add_neighbor(elem)\n",
    "            else:\n",
    "                vertex.add_operation(elem)\n",
    "    \n",
    "    # add vertex with neighbors to graph\n",
    "    g.add_vertex(vertex)"
   ]
  },
  {
   "cell_type": "code",
   "execution_count": 112,
   "metadata": {},
   "outputs": [
    {
     "name": "stdout",
     "output_type": "stream",
     "text": [
      "<bound method Graph.return_list_of_vertex of <__main__.Graph object at 0x113637f90>>\n"
     ]
    }
   ],
   "source": [
    "print(g.return_list_of_vertex)"
   ]
  },
  {
   "cell_type": "code",
   "execution_count": 50,
   "metadata": {},
   "outputs": [
    {
     "name": "stdout",
     "output_type": "stream",
     "text": [
      "aaa -> zzz, AND, xxx\n"
     ]
    }
   ],
   "source": [
    "a = Node('aaa')\n",
    "a.add_neighbor('zzz')\n",
    "a.add_neighbor('xxx')\n",
    "a.add_operation('AND')\n",
    "\n",
    "print(a)\n",
    "\n",
    "g = Graph()\n",
    "g.add_vertex(a)\n",
    "\n",
    "# print(g)"
   ]
  },
  {
   "cell_type": "code",
   "execution_count": 21,
   "metadata": {},
   "outputs": [
    {
     "data": {
      "text/plain": [
       "{<__main__.Node at 0x113644e90>: <__main__.Node at 0x113612750>}"
      ]
     },
     "execution_count": 21,
     "metadata": {},
     "output_type": "execute_result"
    }
   ],
   "source": [
    "g.vertex_dict"
   ]
  },
  {
   "cell_type": "code",
   "execution_count": 62,
   "metadata": {},
   "outputs": [
    {
     "data": {
      "text/plain": [
       "'aaa bbb ccc'"
      ]
     },
     "execution_count": 62,
     "metadata": {},
     "output_type": "execute_result"
    }
   ],
   "source": [
    "qqq = {'aaa': 0, 'bbb': 1, 'ccc': 2}\n",
    "\" \".join([i for i in qqq.keys()])"
   ]
  },
  {
   "cell_type": "code",
   "execution_count": null,
   "metadata": {},
   "outputs": [],
   "source": []
  }
 ],
 "metadata": {
  "kernelspec": {
   "display_name": "study_env",
   "language": "python",
   "name": "python3"
  },
  "language_info": {
   "codemirror_mode": {
    "name": "ipython",
    "version": 3
   },
   "file_extension": ".py",
   "mimetype": "text/x-python",
   "name": "python",
   "nbconvert_exporter": "python",
   "pygments_lexer": "ipython3",
   "version": "3.11.0"
  }
 },
 "nbformat": 4,
 "nbformat_minor": 2
}
