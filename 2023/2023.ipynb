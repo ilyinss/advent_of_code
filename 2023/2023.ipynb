{
 "cells": [
  {
   "cell_type": "markdown",
   "metadata": {},
   "source": [
    "--- Day 1: Trebuchet?! ---\n",
    "\n",
    "Something is wrong with global snow production, and you've been selected to take a look. The Elves have even given you a map; on it, they've used stars to mark the top fifty locations that are likely to be having problems.\n",
    "\n",
    "You've been doing this long enough to know that to restore snow operations, you need to check all fifty stars by December 25th.\n",
    "\n",
    "Collect stars by solving puzzles. Two puzzles will be made available on each day in the Advent calendar; the second puzzle is unlocked when you complete the first. Each puzzle grants one star. Good luck!\n",
    "\n",
    "You try to ask why they can't just use a weather machine (\"not powerful enough\") and where they're even sending you (\"the sky\") and why your map looks mostly blank (\"you sure ask a lot of questions\") and hang on did you just say the sky (\"of course, where do you think snow comes from\") when you realize that the Elves are already loading you into a trebuchet (\"please hold still, we need to strap you in\").\n",
    "\n",
    "As they're making the final adjustments, they discover that their calibration document (your puzzle input) has been amended by a very young Elf who was apparently just excited to show off her art skills. Consequently, the Elves are having trouble reading the values on the document.\n",
    "\n",
    "The newly-improved calibration document consists of lines of text; each line originally contained a specific calibration value that the Elves now need to recover. On each line, the calibration value can be found by combining the first digit and the last digit (in that order) to form a single two-digit number.\n",
    "\n",
    "For example:\n",
    "\n",
    "```\n",
    "1abc2\n",
    "pqr3stu8vwx\n",
    "a1b2c3d4e5f\n",
    "treb7uchet\n",
    "```\n",
    "\n",
    "In this example, the calibration values of these four lines are 12, 38, 15, and 77. Adding these together produces 142.\n",
    "\n",
    "Consider your entire calibration document. <span style = 'color:yellow;'>What is the sum of all of the calibration values?</span>"
   ]
  },
  {
   "cell_type": "code",
   "execution_count": 103,
   "metadata": {},
   "outputs": [],
   "source": [
    "with open('day_1.txt', 'r') as f:\n",
    "    line = f.read().splitlines()"
   ]
  },
  {
   "cell_type": "code",
   "execution_count": 125,
   "metadata": {},
   "outputs": [
    {
     "data": {
      "text/plain": [
       "52974"
      ]
     },
     "execution_count": 125,
     "metadata": {},
     "output_type": "execute_result"
    }
   ],
   "source": [
    "all_sum = 0\n",
    "for each_line in line:\n",
    "    filter_list = list(filter(str.isdigit, each_line))\n",
    "    temp_ans = int(f\"{filter_list[0]}{filter_list[-1]}\")\n",
    "    all_sum+=temp_ans\n",
    "\n",
    "all_sum\n",
    "\n",
    "\n",
    "# 52974"
   ]
  },
  {
   "cell_type": "markdown",
   "metadata": {},
   "source": [
    "--- Part Two ---\n",
    "\n",
    "Your calculation isn't quite right. It looks like some of the digits are actually spelled out with letters: `one`, `two`, `three`, `four`, `five`, `six`, `seven`, `eight`, and `nine` also count as valid \"digits\".\n",
    "\n",
    "Equipped with this new information, you now need to find the real first and last digit on each line. For example:\n",
    "\n",
    "```\n",
    "two1nine\n",
    "eightwothree\n",
    "abcone2threexyz\n",
    "xtwone3four\n",
    "4nineeightseven2\n",
    "zoneight234\n",
    "7pqrstsixteen\n",
    "```\n",
    "\n",
    "In this example, the calibration values are 29, 83, 13, 24, 42, 14, and 76. Adding these together produces 281. <span style = 'color:yellow;'>**What is the sum of all of the calibration values?**</span>"
   ]
  },
  {
   "cell_type": "code",
   "execution_count": 129,
   "metadata": {},
   "outputs": [
    {
     "name": "stdout",
     "output_type": "stream",
     "text": [
      "53340\n"
     ]
    }
   ],
   "source": [
    "text_to_number_dict = {\n",
    "    'one': 'o1e',\n",
    "    'two': 't2o',\n",
    "    'three': 't3e',\n",
    "    'four': 'f4r',\n",
    "    'five': 'f5e',\n",
    "    'six': 's6x',\n",
    "    'seven': 's7n',\n",
    "    'eight': 'e8t',\n",
    "    'nine': 'n9e'\n",
    "}\n",
    "\n",
    "\n",
    "all_sum = 0\n",
    "for each_line in line:\n",
    "    \n",
    "    for key, value in text_to_number_dict.items():\n",
    "        if key in each_line:\n",
    "            each_line = each_line.replace(key, value)\n",
    "    \n",
    "    filter_list = list(filter(str.isdigit, each_line))\n",
    "        \n",
    "    temp_ans = int(f\"{filter_list[0]}{filter_list[-1]}\")\n",
    "    \n",
    "    all_sum+=temp_ans\n",
    "\n",
    "\n",
    "print(all_sum)"
   ]
  },
  {
   "cell_type": "markdown",
   "metadata": {},
   "source": [
    "--- Day 2: Cube Conundrum ---\n",
    "\n",
    "You're launched high into the atmosphere! The apex of your trajectory just barely reaches the surface of a large island floating in the sky. You gently land in a fluffy pile of leaves. It's quite cold, but you don't see much snow. An Elf runs over to greet you.\n",
    "\n",
    "The Elf explains that you've arrived at **Snow Island** and apologizes for the lack of snow. He'll be happy to explain the situation, but it's a bit of a walk, so you have some time. They don't get many visitors up here; would you like to play a game in the meantime?\n",
    "\n",
    "As you walk, the Elf shows you a small bag and some cubes which are either red, green, or blue. Each time you play this game, he will hide a secret number of cubes of each color in the bag, and your goal is to figure out information about the number of cubes.\n",
    "\n",
    "To get information, once a bag has been loaded with cubes, the Elf will reach into the bag, grab a handful of random cubes, show them to you, and then put them back in the bag. He'll do this a few times per game.\n",
    "\n",
    "You play several games and record the information from each game (your puzzle input). Each game is listed with its ID number (like the `11` in `Game 11: ...`) followed by a semicolon-separated list of subsets of cubes that were revealed from the bag (like `3 red`, `5 green`, `4 blue`).\n",
    "\n",
    "For example, the record of a few games might look like this:\n",
    "```\n",
    "Game 1: 3 blue, 4 red; 1 red, 2 green, 6 blue; 2 green\n",
    "Game 2: 1 blue, 2 green; 3 green, 4 blue, 1 red; 1 green, 1 blue\n",
    "Game 3: 8 green, 6 blue, 20 red; 5 blue, 4 red, 13 green; 5 green, 1 red\n",
    "Game 4: 1 green, 3 red, 6 blue; 3 green, 6 red; 3 green, 15 blue, 14 red\n",
    "Game 5: 6 red, 1 blue, 3 green; 2 blue, 1 red, 2 green\n",
    "```\n",
    "\n",
    "In game 1, three sets of cubes are revealed from the bag (and then put back again). The first set is 3 blue cubes and 4 red cubes; the second set is 1 red cube, 2 green cubes, and 6 blue cubes; the third set is only 2 green cubes.\n",
    "\n",
    "The Elf would first like to know which games would have been possible if the bag contained **only 12 red cubes, 13 green cubes, and 14 blue cubes?**\n",
    "\n",
    "In the example above, games 1, 2, and 5 would have been possible if the bag had been loaded with that configuration. However, game 3 would have been **impossible** because at one point the Elf showed you 20 red cubes at once; similarly, game 4 would also have been **impossible** because the Elf showed you 15 blue cubes at once. If you add up the IDs of the games that would have been possible, you get **8**.\n",
    "\n",
    "Determine which games would have been possible if the bag had been loaded with only 12 red cubes, 13 green cubes, and 14 blue cubes. <span style = 'color:yellow; font-weight:bold;'>What is the sum of the IDs of those games?</span>\n",
    "\n"
   ]
  },
  {
   "cell_type": "code",
   "execution_count": 130,
   "metadata": {},
   "outputs": [],
   "source": [
    "with open('day_2.txt', 'r') as f:\n",
    "    line = f.read().splitlines()"
   ]
  },
  {
   "cell_type": "code",
   "execution_count": 144,
   "metadata": {},
   "outputs": [
    {
     "data": {
      "text/plain": [
       "2204"
      ]
     },
     "execution_count": 144,
     "metadata": {},
     "output_type": "execute_result"
    }
   ],
   "source": [
    "max_cubes_dict = {\n",
    "    'red':12,\n",
    "    'green':13,\n",
    "    'blue':14\n",
    "}\n",
    "\n",
    "\n",
    "games_list = []\n",
    "for each_line in line:\n",
    "    split_1 = each_line.split(': ')\n",
    "    game_number = int(split_1[0].replace('Game ', ''))\n",
    "    game_data_list = split_1[1].strip().split('; ')\n",
    "    counter_data_list = len(game_data_list)\n",
    "    for each_set in game_data_list:\n",
    "        split_comma_list = each_set.split(', ')\n",
    "        \n",
    "        counter_comma_list = len(split_comma_list)\n",
    "        for each_elem in split_comma_list:\n",
    "            elem_list = each_elem.split(' ')\n",
    "            parsed_digit = int(elem_list[0])\n",
    "            parsed_color = elem_list[1]\n",
    "            if parsed_digit<= max_cubes_dict[parsed_color]:\n",
    "                counter_comma_list-=1\n",
    "        if counter_comma_list == 0:\n",
    "            counter_data_list-=1\n",
    "    \n",
    "    if counter_data_list==0:\n",
    "        games_list.append(game_number)\n",
    "        \n",
    "sum(games_list)"
   ]
  },
  {
   "cell_type": "markdown",
   "metadata": {},
   "source": [
    "--- Part Two ---\n",
    "\n",
    "The Elf says they've stopped producing snow because they aren't getting any **water**! He isn't sure why the water stopped; however, he can show you how to get to the water source to check it out for yourself. It's just up ahead!\n",
    "\n",
    "As you continue your walk, the Elf poses a second question: in each game you played, what is the **fewest number of cubes of each color** that could have been in the bag to make the game possible?\n",
    "\n",
    "Again consider the example games from earlier:\n",
    "\n",
    "```\n",
    "Game 1: 3 blue, 4 red; 1 red, 2 green, 6 blue; 2 green\n",
    "Game 2: 1 blue, 2 green; 3 green, 4 blue, 1 red; 1 green, 1 blue\n",
    "Game 3: 8 green, 6 blue, 20 red; 5 blue, 4 red, 13 green; 5 green, 1 red\n",
    "Game 4: 1 green, 3 red, 6 blue; 3 green, 6 red; 3 green, 15 blue, 14 red\n",
    "Game 5: 6 red, 1 blue, 3 green; 2 blue, 1 red, 2 green\n",
    "```\n",
    "\n",
    "- In game 1, the game could have been played with as few as 4 red, 2 green, and 6 blue cubes. If any color had even one fewer cube, the game would have been impossible.\n",
    "- Game 2 could have been played with a minimum of 1 red, 3 green, and 4 blue cubes.\n",
    "- Game 3 must have been played with at least 20 red, 13 green, and 6 blue cubes.\n",
    "- Game 4 required at least 14 red, 3 green, and 15 blue cubes.\n",
    "- Game 5 needed no fewer than 6 red, 3 green, and 2 blue cubes in the bag.\n",
    "\n",
    "The **power** of a set of cubes is equal to the numbers of red, green, and blue cubes multiplied together. The power of the minimum set of cubes in game 1 is 48. In games 2-5 it was 12, 1560, 630, and 36, respectively. Adding up these five powers produces the sum **2286**.\n",
    "\n",
    "For each game, find the minimum set of cubes that must have been present. <span style = 'color:yellow; font-weight:bold;'>What is the sum of the power of these sets?</span>"
   ]
  },
  {
   "cell_type": "code",
   "execution_count": 153,
   "metadata": {},
   "outputs": [],
   "source": [
    "import math"
   ]
  },
  {
   "cell_type": "code",
   "execution_count": 159,
   "metadata": {},
   "outputs": [],
   "source": [
    "test_line = [\n",
    "    'Game 1: 3 blue, 4 red; 1 red, 2 green, 6 blue; 2 green',\n",
    "    'Game 2: 1 blue, 2 green; 3 green, 4 blue, 1 red; 1 green, 1 blue',\n",
    "    'Game 3: 8 green, 6 blue, 20 red; 5 blue, 4 red, 13 green; 5 green, 1 red',\n",
    "    'Game 4: 1 green, 3 red, 6 blue; 3 green, 6 red; 3 green, 15 blue, 14 red',\n",
    "    'Game 5: 6 red, 1 blue, 3 green; 2 blue, 1 red, 2 green']"
   ]
  },
  {
   "cell_type": "code",
   "execution_count": 163,
   "metadata": {},
   "outputs": [
    {
     "data": {
      "text/plain": [
       "71036"
      ]
     },
     "execution_count": 163,
     "metadata": {},
     "output_type": "execute_result"
    }
   ],
   "source": [
    "max_cubes_dict = {\n",
    "    'red':12,\n",
    "    'green':13,\n",
    "    'blue':14\n",
    "}\n",
    "\n",
    "\n",
    "total_result = 0\n",
    "\n",
    "for each_line in line:\n",
    "# for each_line in test_line:\n",
    "    split_1 = each_line.split(': ')\n",
    "    # game_number = int(split_1[0].replace('Game ', ''))\n",
    "    game_data_list = split_1[1].strip().split('; ')\n",
    "    # counter_data_list = len(game_data_list)\n",
    "    \n",
    "    temp_cubes_dict = {\n",
    "        'red':1,\n",
    "        'green':1,\n",
    "        'blue':1\n",
    "\n",
    "    }\n",
    "\n",
    "    \n",
    "    for each_set in game_data_list:\n",
    "        split_comma_list = each_set.split(', ')\n",
    "        \n",
    "        # counter_comma_list = len(split_comma_list)\n",
    "        \n",
    "        \n",
    "        for each_elem in split_comma_list:\n",
    "            elem_list = each_elem.split(' ')\n",
    "            parsed_digit = int(elem_list[0])\n",
    "            parsed_color = elem_list[1]\n",
    "            if parsed_digit > temp_cubes_dict[parsed_color]:\n",
    "            # if parsed_digit <= max_cubes_dict[parsed_color] and parsed_digit > temp_cubes_dict[parsed_color]:\n",
    "                temp_cubes_dict[parsed_color] = parsed_digit\n",
    "                \n",
    "    temp_result = math.prod(list(temp_cubes_dict.values()))\n",
    "    total_result+=temp_result\n",
    "    #             counter_comma_list-=1\n",
    "    #     if counter_comma_list == 0:\n",
    "    #         counter_data_list-=1\n",
    "    \n",
    "    # if counter_data_list==0:\n",
    "    #     games_list.append(game_number)\n",
    "        \n",
    "total_result"
   ]
  },
  {
   "cell_type": "code",
   "execution_count": null,
   "metadata": {},
   "outputs": [],
   "source": []
  },
  {
   "cell_type": "code",
   "execution_count": null,
   "metadata": {},
   "outputs": [],
   "source": []
  }
 ],
 "metadata": {
  "kernelspec": {
   "display_name": "study_env",
   "language": "python",
   "name": "python3"
  },
  "language_info": {
   "codemirror_mode": {
    "name": "ipython",
    "version": 3
   },
   "file_extension": ".py",
   "mimetype": "text/x-python",
   "name": "python",
   "nbconvert_exporter": "python",
   "pygments_lexer": "ipython3",
   "version": "3.11.0"
  }
 },
 "nbformat": 4,
 "nbformat_minor": 2
}
